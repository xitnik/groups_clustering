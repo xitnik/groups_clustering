{
 "cells": [
  {
   "cell_type": "code",
   "execution_count": 328,
   "metadata": {
    "collapsed": false
   },
   "outputs": [],
   "source": [
    "import pandas as pd\n",
    "import numpy as np\n",
    "from scipy.spatial.distance import *\n",
    "import pickle \n",
    "import random\n",
    "from time import sleep\n",
    "import json\n",
    "import requests\n",
    "from pymystem3 import Mystem\n",
    "from sklearn.feature_extraction.text import TfidfVectorizer\n",
    "from nltk.corpus import stopwords\n",
    "from sklearn.cluster import KMeans, MiniBatchKMeans\n",
    "from nltk.tokenize import RegexpTokenizer"
   ]
  },
  {
   "cell_type": "code",
   "execution_count": 2,
   "metadata": {
    "collapsed": true
   },
   "outputs": [],
   "source": [
    "#отключение предупреждений\n",
    "def warn(*args, **kwargs):\n",
    "    pass\n",
    "import warnings\n",
    "warnings.warn = warn"
   ]
  },
  {
   "cell_type": "code",
   "execution_count": null,
   "metadata": {
    "collapsed": true
   },
   "outputs": [],
   "source": [
    "groups = pd.read_csv('ekb_community_stats.csv', header=None).values.ravel().tolist()"
   ]
  },
  {
   "cell_type": "markdown",
   "metadata": {},
   "source": [
    "Для анализа было решено использовать часть данных, так как доступные мне вычислительные мощности не позволяют обрабатывать все предоставленные данные. Подвыборка выбиралась случайно."
   ]
  },
  {
   "cell_type": "code",
   "execution_count": null,
   "metadata": {
    "collapsed": true
   },
   "outputs": [],
   "source": [
    "subsample_size = 20000\n",
    "rand_groups = []\n",
    "for i in range(subsample_size):\n",
    "    group = random.choice(groups)\n",
    "    rand_groups.append(group)\n",
    "    groups.remove(group)  "
   ]
  },
  {
   "cell_type": "code",
   "execution_count": null,
   "metadata": {
    "collapsed": true
   },
   "outputs": [],
   "source": [
    "pickle.dump(rand_groups, open( \"rand_groups_origin\", \"wb\" ))\n",
    "wall_get()"
   ]
  },
  {
   "cell_type": "code",
   "execution_count": null,
   "metadata": {
    "collapsed": true
   },
   "outputs": [],
   "source": [
    "\n",
    "def wall_get(id):\n",
    "    \"\"\"\n",
    "    Keyword arguments:\n",
    "    id - group's id\n",
    "    \n",
    "    returns [0] if error\n",
    "    otherwise reterns [number of posts in group, last 100 posts]\n",
    "    \"\"\"\n",
    "    first = \"https://api.vk.com/method/wall.get?owner_id=-\"\n",
    "    last = \"&count=100\"\n",
    "    data = requests.get(first + str(id) + last)\n",
    "    datas = data.content.decode('utf8')\n",
    "    data = json.loads(datas)\n",
    "    try:\n",
    "        data = data['response']\n",
    "    except:\n",
    "        return [0]\n",
    "    return data[0], data[1:]"
   ]
  },
  {
   "cell_type": "markdown",
   "metadata": {},
   "source": [
    "# Загрузка данных\n",
    "\n",
    "В некоторых группах из выборки контент представлен в виде картинок. Было решено разделить группы, где информация передается с помощью картинок и где информация передается с помощью текста. Часть групп из воборки представляет собой закрытые, заблокированные сообщества, а так же сообщества, в которых недостаточно информации для анализа (мало постов). Такие группы удалялись. \n",
    "\n",
    "* av_word_len - средняя длина слова\n",
    "* pic_groups_list - список идентификаторов групп с картинками\n",
    "* text_groups_list список идентификаторов групп с текстом\n",
    "* deleted_groups - список идентификаторов удаленных групп\n",
    "* text_groups_dict словарь, содержащий список из постов групп. Ключем является идентефикатор группы"
   ]
  },
  {
   "cell_type": "code",
   "execution_count": null,
   "metadata": {
    "collapsed": false
   },
   "outputs": [],
   "source": [
    "\"\"\"av_word_len = 7\n",
    "pic_groups_list = []\n",
    "text_groups_list = []\n",
    "text_groups_dict = {}\n",
    "deleted_groups = []\n",
    "\n",
    "j = 0\"\"\"\n",
    "\n",
    "for id in rand_groups:\n",
    "\n",
    "    posts = wall_get(id)\n",
    "    \n",
    "    \n",
    "    if posts[0] <= 15: #если мало постов, удаляем группу\n",
    "        j += 1\n",
    "        deleted_groups.append(id)\n",
    "        continue\n",
    "      \n",
    "    if posts[0] < 100: \n",
    "        n_posts = posts[0]\n",
    "    else:\n",
    "        n_posts = 100\n",
    "    group_posts = []\n",
    "    group_len = 0\n",
    "    \n",
    "    for post in posts[1]:\n",
    "        new_post = ' '.join(post['text'].split('<br>'))\n",
    "        group_len += len(new_post)\n",
    "        group_posts.append(new_post)\n",
    "    \n",
    "    if float(group_len) / (n_posts * av_word_len) < 6.5: #Если количество слов на пост в группе < 6.5, добавляем в pic\n",
    "        pic_groups_list.append(id)\n",
    "    else:\n",
    "        text_groups_dict[str(id)] = group_posts\n",
    "        text_groups_list.append(id)\n",
    "    \n",
    "    j += 1\n",
    "    print(j, id)\n"
   ]
  },
  {
   "cell_type": "code",
   "execution_count": 149,
   "metadata": {
    "collapsed": false
   },
   "outputs": [
    {
     "data": {
      "text/plain": [
       "(8082, 1474, 3434)"
      ]
     },
     "execution_count": 149,
     "metadata": {},
     "output_type": "execute_result"
    }
   ],
   "source": [
    "\"\"\"Во время загрузки данных у меня отключился интернет, \n",
    "которого не было в последствии весь день, поэтому для \n",
    "анализа использовалось меньше групп, чем указано выше.\"\"\"\n",
    "\n",
    "len(text_groups_list), len(pic_groups_list), len(deleted_groups)"
   ]
  },
  {
   "cell_type": "code",
   "execution_count": null,
   "metadata": {
    "collapsed": false
   },
   "outputs": [],
   "source": [
    "#Сохранение данных\n",
    "pickle.dump(deleted_groups, open( \"deleted_groups\", \"wb\" ))\n",
    "pickle.dump(pic_groups_list, open( \"pic_groups_list\", \"wb\" ))\n",
    "pickle.dump(text_groups_list, open( \"text_groups_list\", \"wb\" ))\n",
    "pickle.dump(text_groups_dict, open( \"text_groups_dict\", \"wb\" ))"
   ]
  },
  {
   "cell_type": "markdown",
   "metadata": {},
   "source": [
    "# Кластеризация групп с текстом\n",
    "\n",
    "Для кластеризации групп с текстом было решено использовать алгоритм K-means. Все посты были лемматизированы. После, все посты из одной группы были склеены в один текст. После данные были преобразованы с помощью алгоритма tf-idf."
   ]
  },
  {
   "cell_type": "markdown",
   "metadata": {},
   "source": [
    "## Получение матрицы признаков\n",
    "\n",
    "Для получения матрицы признаков можно использовать разные подходы. Далее будут опробованы два из них:\n",
    "\n",
    "* tf-idf\n",
    "* doc2vec\n",
    "\n",
    "Но прежде, чем давать алгоритмам данные, их нужно обработать."
   ]
  },
  {
   "cell_type": "markdown",
   "metadata": {},
   "source": [
    "## Обработка данных"
   ]
  },
  {
   "cell_type": "code",
   "execution_count": null,
   "metadata": {
    "collapsed": false,
    "scrolled": true
   },
   "outputs": [],
   "source": [
    "#Лемматизация\n",
    "m = Mystem()\n",
    "keys = list(text_groups_dict.keys())\n",
    "j = 0\n",
    "\n",
    "for key in keys:\n",
    "    for i in range(len(text_groups_dict[key])):\n",
    "        text_groups_dict[key][i] = ''.join(m.lemmatize(text_groups_dict[key][i]))\n",
    "    j += 1\n",
    "    print(j, key)"
   ]
  },
  {
   "cell_type": "code",
   "execution_count": null,
   "metadata": {
    "collapsed": true
   },
   "outputs": [],
   "source": [
    "#Сохранение данных\n",
    "pickle.dump(text_groups_dict, open( \"text_groups_dict_lem\", \"wb\" ))"
   ]
  },
  {
   "cell_type": "code",
   "execution_count": null,
   "metadata": {
    "collapsed": false,
    "scrolled": true
   },
   "outputs": [],
   "source": [
    "#Склейка всех постов в каждой группе\n",
    "text_group_dict2 = {}\n",
    "for key in keys:\n",
    "    text_group_dict2[key] = ''.join((''.join(text_groups_dict[key])).split(\"\\n\"))       \n",
    "        "
   ]
  },
  {
   "cell_type": "code",
   "execution_count": null,
   "metadata": {
    "collapsed": false
   },
   "outputs": [],
   "source": [
    "#Сохранение данных\n",
    "pickle.dump(text_group_dict2, open( \"text_group_dict_lem2\", \"wb\" ))"
   ]
  },
  {
   "cell_type": "code",
   "execution_count": 3,
   "metadata": {
    "collapsed": false
   },
   "outputs": [],
   "source": [
    "#Загрузка данных\n",
    "data_dict = pickle.load(open('text_group_dict_lem2', 'rb'))\n",
    "data = list(data_dict.values())"
   ]
  },
  {
   "cell_type": "code",
   "execution_count": 4,
   "metadata": {
    "collapsed": false
   },
   "outputs": [],
   "source": [
    "#Загрузка стоп слов\n",
    "file = open(\"stop_words.txt\", encoding='utf-8')\n",
    "stop_words = file.read().split(\"\\n\")\n",
    "file.close()"
   ]
  },
  {
   "cell_type": "code",
   "execution_count": 171,
   "metadata": {
    "collapsed": false
   },
   "outputs": [],
   "source": [
    "# Токенизация и удаление стоп слов\n",
    "tokenizer = RegexpTokenizer(r'\\w+')\n",
    "tokenized_data = {}\n",
    "\n",
    "for key in data_dict:\n",
    "    tokens = tokenizer.tokenize(data_dict[key])\n",
    "    stopped_tokens = [i for i in tokens if not i in stop_words]\n",
    "    tokenized_data[key] = stopped_tokens\n",
    "\n",
    "pickle.dump(tokenized_data, open('lemmatized_tokenized_text', 'wb'))"
   ]
  },
  {
   "cell_type": "code",
   "execution_count": 264,
   "metadata": {
    "collapsed": true
   },
   "outputs": [],
   "source": [
    "tokenized_data = pickle.load(open('lemmatized_tokenized_text', 'rb'))"
   ]
  },
  {
   "cell_type": "markdown",
   "metadata": {},
   "source": [
    "## doc2vec"
   ]
  },
  {
   "cell_type": "code",
   "execution_count": 11,
   "metadata": {
    "collapsed": false
   },
   "outputs": [],
   "source": [
    "from gensim import corpora, models\n",
    "from gensim.models import doc2vec\n",
    "from collections import namedtuple\n",
    "\n",
    "\n",
    "dictionary = corpora.Dictionary(list(tokenized_data.values()))\n",
    "corpus = [dictionary.doc2bow(text) for text in list(tokenized_data.values())]\n",
    "\n"
   ]
  },
  {
   "cell_type": "code",
   "execution_count": 12,
   "metadata": {
    "collapsed": false
   },
   "outputs": [],
   "source": [
    "docs = []\n",
    "docs_labels = list(tokenized_data.keys())\n",
    "analyzedDocument = namedtuple('AnalyzedDocument', 'words tags')\n",
    "for i, words in enumerate(list(tokenized_data.values())):\n",
    "    tags = [i]\n",
    "    docs.append(analyzedDocument(words, tags))"
   ]
  },
  {
   "cell_type": "code",
   "execution_count": 13,
   "metadata": {
    "collapsed": false
   },
   "outputs": [],
   "source": [
    "doc_model = doc2vec.Doc2Vec(documents=docs, window=10)"
   ]
  },
  {
   "cell_type": "code",
   "execution_count": 21,
   "metadata": {
    "collapsed": false,
    "scrolled": true
   },
   "outputs": [
    {
     "name": "stdout",
     "output_type": "stream",
     "text": [
      "-----------------\n",
      " 596 vk.com/club53503880\n",
      "просто мочь хотеть бояться\n",
      "-----------------\n",
      "2 most similar groups:\n",
      "\n",
      "3295 vk.com/club43005314 0.5198018550872803 просто думать значит любить\n",
      "7116 vk.com/club50101397 0.4754263758659363 заставлять нихера размышлять успех\n",
      "-----------------\n",
      " 655 vk.com/club10285494\n",
      "оборотень разбойник криминальный грабитель\n",
      "-----------------\n",
      "2 most similar groups:\n",
      "\n",
      "5690 vk.com/club36647917 0.7694495916366577 оборотень приключение похищать чудовище\n",
      "1872 vk.com/club42788054 0.758505642414093 оборотень барри криминальный детектив\n",
      "-----------------\n",
      " 1687 vk.com/club41293763\n",
      "Neurohop Glitch glitchhop idm\n",
      "-----------------\n",
      "2 most similar groups:\n",
      "\n",
      "2215 vk.com/club51207325 0.7073994278907776 The Hill Remix From\n",
      "1296 vk.com/club19492084 0.6798967719078064 The Remix Hill photographed\n",
      "-----------------\n",
      " 6651 vk.com/club79580527\n",
      "ресничка длинныересница ламинирование ресница\n",
      "-----------------\n",
      "2 most similar groups:\n",
      "\n",
      "2408 vk.com/club21885045 0.6392230987548828 ресница ресничка волос накрасить\n",
      "3490 vk.com/club52388036 0.610479474067688 кератирование BotoxLashes ламинирование пристрастность\n",
      "-----------------\n",
      " 6056 vk.com/club59397591\n",
      "накрасить оттенок тон цвет\n",
      "-----------------\n",
      "2 most similar groups:\n",
      "\n",
      "600 vk.com/club51662502 0.6141231060028076 хайлайтер подводка растушевывать тень\n",
      "124 vk.com/club57384605 0.6119390726089478 хайлайтер губа тень подводка\n"
     ]
    }
   ],
   "source": [
    "for i in range(5):\n",
    "    rand_group = random.randint(0, 8083)\n",
    "    print('-----------------\\n', rand_group, 'vk.com/club' + docs_labels[rand_group])\n",
    "    print(*np.array(doc_model.similar_by_vector(doc_model.docvecs[rand_group], topn=4))[:,0])\n",
    "    print('-----------------\\n2 most similar groups:\\n')\n",
    "    top_n = doc_model.docvecs.most_similar(rand_group, topn=2)\n",
    "    for i in top_n:\n",
    "        ind = int(i[0])\n",
    "        print(i[0], 'vk.com/club' + docs_labels[i[0]], i[1], \n",
    "              *np.array(doc_model.similar_by_vector(doc_model.docvecs[ind], topn=4))[:,0])\n"
   ]
  },
  {
   "cell_type": "code",
   "execution_count": 22,
   "metadata": {
    "collapsed": false
   },
   "outputs": [],
   "source": [
    "doc2vec_matrix = np.array(doc_model.docvecs)"
   ]
  },
  {
   "cell_type": "markdown",
   "metadata": {},
   "source": [
    "## tf-idf\n"
   ]
  },
  {
   "cell_type": "code",
   "execution_count": 23,
   "metadata": {
    "collapsed": false
   },
   "outputs": [],
   "source": [
    "vectorizer = TfidfVectorizer(\n",
    "            max_df=0.5,\n",
    "            max_features=5000,\n",
    "            min_df=2,\n",
    "            stop_words=stop_words,\n",
    "            analyzer=\"word\")"
   ]
  },
  {
   "cell_type": "code",
   "execution_count": 25,
   "metadata": {
    "collapsed": false
   },
   "outputs": [],
   "source": [
    "#Преобразование данных с помощью tf-idf\n",
    "tf_matrix = vectorizer.fit_transform(data)\n",
    "tf_matrix = tf_matrix.toarray()\n",
    "keys = list(data_dict.keys())"
   ]
  },
  {
   "cell_type": "markdown",
   "metadata": {},
   "source": [
    "# Кластеризация"
   ]
  },
  {
   "cell_type": "markdown",
   "metadata": {},
   "source": [
    "## K-means + tf-idf"
   ]
  },
  {
   "cell_type": "markdown",
   "metadata": {},
   "source": [
    "Алгоритм K-means требует входным параметром количество кластеров. Один из подходов определения количества кластеров - это Elbow Method. Для его реализации необходимо посчитать SSE для некоторого количества кластеров.\n",
    "$$SSE = \\sum_{k=1}^K \\sum_{{x_i \\in C_k}}dist(x_i, \\mu_k)^2$$, где $C_k$ - это k-ый кластер, а $\\mu_k$ - его центр.\n",
    "\n",
    "Идея в том, чтобы найти кластер, на котором сумма квадратов ошибок начнет снижаться незначительно."
   ]
  },
  {
   "cell_type": "code",
   "execution_count": null,
   "metadata": {
    "collapsed": false,
    "scrolled": true
   },
   "outputs": [],
   "source": [
    "# Посчитаем k-means с разным количеством кластеров\n",
    "km_dict = {}\n",
    "\n",
    "for num_clust in range(2, 250):\n",
    "    km = KMeans(n_clusters=num_clust, n_init=1)\n",
    "    km.fit(tf_matrix)\n",
    "    km_dict[num_clust] = km"
   ]
  },
  {
   "cell_type": "code",
   "execution_count": 228,
   "metadata": {
    "collapsed": false
   },
   "outputs": [],
   "source": [
    "# Посчитаем ошибку для каждой реализации k-means\n",
    "def compute_sse(data, labels, centers):\n",
    "    sse = 0\n",
    "    for i in range(len(labels)):\n",
    "        sse += euclidean(centers[labels[i]], data[i])**2\n",
    "    return sse\n",
    "            \n",
    "k_means_sse = []\n",
    "for key in km_dict:\n",
    "    k_means_sse.append(compute_sse(tf_matrix,km_dict[key].labels_, km_dict[key].cluster_centers_)) "
   ]
  },
  {
   "cell_type": "code",
   "execution_count": 229,
   "metadata": {
    "collapsed": false
   },
   "outputs": [
    {
     "data": {
      "image/png": "[encoded data removed]",
      "text/plain": [
       "<matplotlib.figure.Figure at 0x7f0d81de1c88>"
      ]
     },
     "metadata": {},
     "output_type": "display_data"
    }
   ],
   "source": [
    "# Построим график\n",
    "%matplotlib inline\n",
    "import matplotlib.pyplot as plt\n",
    "\n",
    "plt.plot(list(km_dict.keys()), k_means_sse)\n",
    "plt.show()"
   ]
  },
  {
   "cell_type": "markdown",
   "metadata": {},
   "source": [
    "К сожалению, по графику выше не получается определить количество кластеров. (Кроме этого метода использовались **silhouette_score** и **calinski_harabaz_score **, но они тоже не внесли ясности).\n",
    "\n",
    "Тем не менее, убедимся, что подход с k-means работает на кластеризации текстов. Возьмем количество кластеров равным 50."
   ]
  },
  {
   "cell_type": "code",
   "execution_count": 415,
   "metadata": {
    "collapsed": false
   },
   "outputs": [],
   "source": [
    "n_clusters = 50\n",
    "km = KMeans(n_clusters=n_clusters, init='k-means++', n_init=1)\n",
    "                         "
   ]
  },
  {
   "cell_type": "code",
   "execution_count": 530,
   "metadata": {
    "collapsed": false
   },
   "outputs": [
    {
     "data": {
      "text/plain": [
       "KMeans(algorithm='auto', copy_x=True, init='k-means++', max_iter=300,\n",
       "    n_clusters=50, n_init=1, n_jobs=1, precompute_distances='auto',\n",
       "    random_state=None, tol=0.0001, verbose=0)"
      ]
     },
     "execution_count": 530,
     "metadata": {},
     "output_type": "execute_result"
    }
   ],
   "source": [
    "km.fit(tf_matrix)"
   ]
  },
  {
   "cell_type": "code",
   "execution_count": 426,
   "metadata": {
    "collapsed": false
   },
   "outputs": [
    {
     "name": "stdout",
     "output_type": "stream",
     "text": [
      "Ключевые слова по кластерам: \n",
      "\n",
      "Cluster 0: член кончать оргазм сантиметр увеличиваться сжимать выпадать секс мокрый полгода\n",
      "Cluster 1: гол матч лига футболист забивать футбол манчестер сити болельщик мяч\n",
      "Cluster 2: отель вылет hotel тур resort beach турист перелет трансфер завтрак\n",
      "Cluster 3: выплата график требоваться доход занятость заработок требование вложение зарабатывать дружный\n",
      "Cluster 4: конверсия заголовок поисковый целевой seo клиент маркетолог маркетинг продвижение трафик\n",
      "Cluster 5: аллах аль ибн пророк посланник благословение мусульманин всевышний приветствовать поистине\n",
      "Cluster 6: концерт музыкант музыкальный альбом песня трек билет выступление сцена музыка\n",
      "Cluster 7: политический войско военный президент армия война украинский вооруженный оборона государство\n",
      "Cluster 8: реабилитация диагноз сбор реквизит лечение сбербанк синдром приступ qiwi сумма\n",
      "Cluster 9: повтор популярный показывать дочь мать обвинять наказывать внук сын потребовать\n",
      "Cluster 10: твой никто сердце уходить душа рядом улыбаться прощать любовь счастие\n",
      "Cluster 11: татуировка тату tattoo сеанс мастер записываться студия исполнение илья татуаж\n",
      "Cluster 12: собака щенок корм кошка хозяин порода питомец приучать приют ласковый\n",
      "Cluster 13: пещера иммунитет сеанс плюс хронический аллергия заболевание официальный записываться нос\n",
      "Cluster 14: двигатель автомобиль задний мотор кузов передний тормоз руль резина колесо\n",
      "Cluster 15: цвет наращивание модный гардероб волос коллекция юбка натуральный стильный платье\n",
      "Cluster 16: задерживать сотрудник полиция уголовный выявлять заместитель край палата вынести район\n",
      "Cluster 17: заболевание болезнь симптом сосудистый вещество организм хронический бактерия кишечник сосуд\n",
      "Cluster 18: ум медитация страдание гнев существование познавать осознавать существо наблюдать свобода\n",
      "Cluster 19: помещение интерьер поверхность конструкция материал влага плитка отделка деревянный освещение\n",
      "Cluster 20: горизонт конь черт сгорать щека жарить глядеть тайна король товарищ\n",
      "Cluster 21: пища овощ клетчатка организм фрукт вещество рацион сок употреблять жир\n",
      "Cluster 22: сериал актер роль фильм трейлер серия эпизод сезон режиссер персонаж\n",
      "Cluster 23: сообщать житель региональный гражданин водитель председатель транспортный млрд нарушение федеральный\n",
      "Cluster 24: зверь ванильный верно попадаться заново ударять обязанный конфета каблук прямо\n",
      "Cluster 25: образовательный вуз студент специальность университет выпускник учебный студенческий образование научно\n",
      "Cluster 26: мышца штанга жим гантель мышечный трицепс упражнение бицепс тяга повторение\n",
      "Cluster 27: свадьба свадебный молодожены невеста торжество фотосессия фотограф праздник съемка жених\n",
      "Cluster 28: депиляция волосок сахарный удаление процедура лазерный раздражение паста пилинг чувствительный\n",
      "Cluster 29: спутник строй кастрюля салфетка отказ сосед подвиг позвонить спускаться священный\n",
      "Cluster 30: ходить спрашивать пойти читать короче заниматься пить мужик попробовать вообще\n",
      "Cluster 31: сила энергия поведение собственный духовный сознание внутренний эмоциональный способность часто\n",
      "Cluster 32: пояснять четко крик пацан майка власть выборы тупой пускать четкий\n",
      "Cluster 33: жанр триллер комедия драма боевик фантастика ужас приключение рейтинг предстоять\n",
      "Cluster 34: юрист юридический судебный суд законодательство адвокат имущество заявление право договор\n",
      "Cluster 35: депозит лотерея подниматься подымать секунда сидеть бонус хватить регистрироваться пара\n",
      "Cluster 36: увлечение креативный авария россиянин своеобразный сообщаться реализовывать превращать выявлять солнечный\n",
      "Cluster 37: успех цель неудача успешный мышление бизнес богатый достижение деньги бизнесмен\n",
      "Cluster 38: музей достопримечательность памятник здание парк располагать река мост площадь дворец\n",
      "Cluster 39: чемпион кубок турнир спортсмен соперник поединок ufc бой сборная соревнование\n",
      "Cluster 40: процессор дисплей смартфон устройство гб экран операционный камера ноутбук samsung\n",
      "Cluster 41: кожа увлажнять наносить морщина смывать экстракт маска крем лицо питать\n",
      "Cluster 42: перемешать посыпать ингредиент нарезать мука сливочный приготовление соль обжаривать взбивать\n",
      "Cluster 43: квартира санузел доступность комната комнатный стиральный инфраструктура бытовой сдавать холодильник\n",
      "Cluster 44: статус платежный зарегистрировать платить экономический официально вклад ферма вывод мгновенно\n",
      "Cluster 45: планшет кроха вред ходьба вдоль опора заветный бабушка впоследствии взрослый\n",
      "Cluster 46: сказываться талия луковица прыщ мягко электричество эффективно вытаскивать производиться электрический\n",
      "Cluster 47: обязательный опытный раб строгий исключительно приказ соблюдение достоинство переписка нижний\n",
      "Cluster 48: label release buy records ep trap free usd hop feat\n",
      "Cluster 49: доставка заказ заказывать наличие сервер лайка взаимно добавляться скидка ава\n"
     ]
    }
   ],
   "source": [
    "terms = vectorizer.get_feature_names()\n",
    "order_centroids = km.cluster_centers_.argsort()[:, ::-1]\n",
    "\n",
    "print(\"Ключевые слова по кластерам: \\n\")\n",
    "for i in range(n_clusters):\n",
    "    print(\"Cluster %d:\" % i, end='')\n",
    "    for ind in order_centroids[i, :10]:\n",
    "        print(' %s' % terms[ind], end='')\n",
    "    print()"
   ]
  },
  {
   "cell_type": "markdown",
   "metadata": {},
   "source": [
    "Как можно заметить, k-means довольно неплохо справляется с кластеризацией текста. Кластеры, полученные с помощью такого подхода вполне можно назвать тематическими. Тем не менее, сложность заключается в выборе кластеров. Поставив слишком большое количество кластеров, мы можем получить повторяющиеся кластеры, а поставив маленькое, можем не получить важной информации."
   ]
  },
  {
   "cell_type": "markdown",
   "metadata": {
    "collapsed": true
   },
   "source": [
    "# Иерархическая кластеризация с помощью k-means\n",
    "\n",
    "Для того, чтобы устранить недостаток, описанный выше, было решено запустить k-means делить данные рекурсивно по два кластера. Таким образом можно построить дерево, в узлах которой будут данные о конкретных кластерах. Критерием остановки будет служить максимальный размер кластера (max_cl_size). Если кластер меньше максимального размера кластера, то происходит выход из рекурсии. Выбор максимального размера кластера зависит от конкретизации, которую требуется получить. Можно поставить изначально низкое значение, так как всегда есть возможность подняться на уровень выше.\n",
    "\n",
    "Данные о кластерах:\n",
    "\n",
    "* data - векторы, полученные из матрицы X\n",
    "* level - глубина дерева, на которой лежит кластер\n",
    "* size - размер кластера\n",
    "* words - ключевые слова кластера\n",
    "* groupd - идентефикаторы групп кластера\n",
    "* center - центр кластера\n",
    "\n",
    "Позже, для каждого кластера будет добавлено еще одно поле:\n",
    "\n",
    "* ind - индекс кластера на определенной глубине\n"
   ]
  },
  {
   "cell_type": "code",
   "execution_count": null,
   "metadata": {
    "collapsed": false
   },
   "outputs": [],
   "source": [
    "def get_clust_words(k_means, ind, num=10):\n",
    "    \"\"\"\n",
    "    Keyword arguments:\n",
    "    k_means - k-means object\n",
    "    ind - cluster's index\n",
    "    num - numbers of words to return\n",
    "    \n",
    "    returns num ind-th cluster's key words\n",
    "    \"\"\"\n",
    "    terms = vectorizer.get_feature_names()\n",
    "    order_centroids = k_means.cluster_centers_.argsort()[:, ::-1]\n",
    "    \n",
    "    words = []\n",
    "    for i in order_centroids[ind, :num]:\n",
    "        words.append(terms[i])\n",
    "    return words\n",
    "\n",
    "\n",
    "def recurent_km(data, groups, cluster_words=None, center=None, max_cl_size=400, k=1, stage=0):    \n",
    "    global max_level\n",
    "    if stage == 0:\n",
    "        max_level = 0\n",
    "    if max_level < stage:\n",
    "        max_level = stage\n",
    "    clust_dict = {}\n",
    "    clust_dict['data'] = data\n",
    "    clust_dict['level'] = stage\n",
    "    clust_dict['size'] = len(data)\n",
    "    clust_dict['words'] = cluster_words\n",
    "    clust_dict['groups'] = groups\n",
    "    clust_dict['center'] = center\n",
    "    \n",
    "    \n",
    "    if len(data) < max_cl_size:\n",
    "        list_tree[k-1] = clust_dict\n",
    "        return\n",
    "    \n",
    "    list_tree[k-1] = clust_dict\n",
    "    \n",
    "    km = KMeans(n_clusters=2, init='k-means++', n_init=1)\n",
    "    \n",
    "    km.fit(data) \n",
    "    data1 = []\n",
    "    data2 = []\n",
    "    groups1 = []\n",
    "    groups2 = []\n",
    "    center1 = km.cluster_centers_[0]\n",
    "    center2 = km.cluster_centers_[1]\n",
    "    cluster_words1 = get_clust_words(km, 0)\n",
    "    cluster_words2 = get_clust_words(km, 1)\n",
    "    \n",
    "    labels = km.labels_\n",
    "    for i in range(len(labels)):\n",
    "        if labels[i] == 0:\n",
    "            data1.append(data[i])\n",
    "            groups1.append(groups[i])\n",
    "        else:\n",
    "            data2.append(data[i])\n",
    "            groups2.append(groups[i])\n",
    "    recurent_km(data=data1, groups=groups1, cluster_words=cluster_words1, center=center1, k=2*k, stage=stage+1)\n",
    "    recurent_km(data=data2, groups=groups2, cluster_words=cluster_words2, center=center2, k=2*k + 1, stage=stage+1)\n",
    "\n",
    "list_num = 2**23\n",
    "list_tree = [0] * list_num      #лист, куда будут записываться кластера (взят с запасом)\n",
    "max_cl_size = 400               #максимальный размер кластера\n",
    "groups = list(data_dict.keys()) # идентефикаторы групп\n",
    "recurent_km(data=tf_matrix, groups=groups)"
   ]
  },
  {
   "cell_type": "code",
   "execution_count": 253,
   "metadata": {
    "collapsed": false
   },
   "outputs": [
    {
     "name": "stdout",
     "output_type": "stream",
     "text": [
      "Глубина дерева: 15\n"
     ]
    }
   ],
   "source": [
    "print(\"Глубина дерева:\", max_level)"
   ]
  },
  {
   "cell_type": "code",
   "execution_count": 72,
   "metadata": {
    "collapsed": false
   },
   "outputs": [],
   "source": [
    "#Разделение на уровни и присвоение каждому кластеру индекса\n",
    "\n",
    "levels = []\n",
    "\n",
    "for i in range(max_level + 2):\n",
    "    levels.append(list_tree[(2**i)-1: 2**(i+1) - 1])\n",
    "\n",
    "for level in levels[1:]:\n",
    "    for i in range(len(level)):\n",
    "        if level[i] != 0:\n",
    "            level[i]['ind'] = level.index(level[i])"
   ]
  },
  {
   "cell_type": "code",
   "execution_count": 64,
   "metadata": {
    "collapsed": false
   },
   "outputs": [],
   "source": [
    "#Нахождение конечных кластеров\n",
    "down_cl = []\n",
    "for level in levels[1:]:\n",
    "    for cluster in level:\n",
    "        if cluster != 0:\n",
    "            if cluster['size'] < max_cl_size:\n",
    "                down_cl.append(cluster)"
   ]
  },
  {
   "cell_type": "markdown",
   "metadata": {},
   "source": [
    "Получив дерево кластеров, можно посмотреть на конечные кластеры (кластеры, размер которах не превышает max_cl_size) и решить, удовлетворяют ли эти кластерам заданным требованиям. Если конечные кластеры можно разделить на подклассы, то следует запустить алгоритм, уменьшив max_cl_size. Если конечные кластеры повторяют друг друга, можно, с помощью вспомогательной функции получить их родителя."
   ]
  },
  {
   "cell_type": "code",
   "execution_count": 105,
   "metadata": {
    "collapsed": true
   },
   "outputs": [],
   "source": [
    "def get_ancestor(cluster):\n",
    "    \"\"\"\n",
    "    Keyword arguments:\n",
    "    cluster - cluster's data from list_tree\n",
    "    \n",
    "    returns cluster's ancestor\n",
    "    \"\"\"\n",
    "    level = levels[cluster['level'] - 1]\n",
    "    ind = cluster['ind'] // 2\n",
    "    \n",
    "    return level[ind] \n",
    "\n",
    "def sort_groups(cluster):\n",
    "     \"\"\"\n",
    "    Keyword arguments:\n",
    "    cluster - cluster's data from list_tree\n",
    "    \n",
    "    returns sorted by the distance frome the center groups\n",
    "    \"\"\"\n",
    "    center = cluster['center']\n",
    "    groups = cluster['groups']\n",
    "    data = cluster['data']\n",
    "    dist_matrix = []\n",
    "    sorted_groups = []\n",
    "    for vec in data:\n",
    "        dist_matrix.append(euclidean(vec, center))\n",
    "    sorted_ind = np.array(dist_matrix).argsort()\n",
    "    for ind in sorted_ind:\n",
    "        sorted_groups.append(groups[ind])\n",
    "    return sorted_groups\n",
    "    "
   ]
  },
  {
   "cell_type": "markdown",
   "metadata": {},
   "source": [
    "Ниже можно увидеть для каждого кластера его размер, глубину на которой он находится, его индекс и ключевые слова"
   ]
  },
  {
   "cell_type": "code",
   "execution_count": 255,
   "metadata": {
    "collapsed": false
   },
   "outputs": [
    {
     "name": "stdout",
     "output_type": "stream",
     "text": [
      "Количество коечных кластеров: 42 \n",
      "\n",
      "395 2 1 свадьба свадебный невеста фотограф фотосессия съемка wedding прическа макияж платье\n",
      "7 3 4 утро слабо осень ночь сердце твой верить музыка спокойный любовь\n",
      "204 3 6 книга фильм бог история земля любовь женщина смерть жанр сила\n",
      "205 4 3 масло мышца сахар упражнение яйцо ложка тренировка соль добавлять ингредиент\n",
      "15 4 10 бог божий господь любовь молитва преподобный иоанн твой христос святой\n",
      "138 4 14 малыш вода масло мама ложка организм кожа упражнение сахар добавлять\n",
      "330 4 15 деньги женщина мужчина бизнес отношение цель энергия книга любовь проблема\n",
      "142 5 0 секс искать парень познакомиться член вирт анон привет встреча куни\n",
      "251 5 2 руб iphone чехол apple samsung продавать рубль размер смартфон наличие\n",
      "140 6 6 платье наличие размер заказ цвет руб ткань одежда юбка скидка\n",
      "383 6 9 квартира сайт компания интернет рубль доход зарабатывать бизнес руб проект\n",
      "267 6 10 концерт билет альбом песня музыка фестиваль клуб рок екатеринбург москва\n",
      "149 6 11 альбом трек песня музыка рэп клип сингл релиз концерт исполнитель\n",
      "240 6 44 твой любовь душа сердце никто скучать рядом счастие прощать уходить\n",
      "239 6 45 твой любовь мужчина женщина сердце счастие душа счастливый глаз никто\n",
      "28 6 46 секс парень мужчина женщина член анон оргазм анонимно кончать постель\n",
      "380 6 47 женщина твой мужчина мама парень любовь мужик муж глаз жена\n",
      "178 7 4 волос наращивание ресница кожа бровь процедура макияж маникюр ноготь мастер\n",
      "94 7 6 remix mix original house feat bass drum trance techno dj\n",
      "142 7 14 скидка товар магазин заказ доставка руб футболка catalog обувь кожа\n",
      "327 7 15 заказ доставка заказывать наличие topic скидка руб рубль подарок размер\n",
      "109 7 16 фильм жанр комедия сериал режиссер драма роль триллер боевик ужас\n",
      "53 8 11 добавлять взаимно ава лайка заявка взаимный подписчик го кидать лайк\n",
      "158 8 14 матч лига гол сборная игрок футбол команда кубок месся реал\n",
      "329 8 34 россия отель украина страна остров музей сша российский русский петербург\n",
      "254 9 21 автомобиль авто подсказывать двигатель машина диск ремонт задний сколько ali\n",
      "159 9 30 трек альбом art hiphop ph ep rap new music клип\n",
      "62 9 71 автомобиль двигатель водитель машина авто система дорога масло мотор кузов\n",
      "69 10 40 торт татуировка тату собака tattoo тортик петля портрет мастер щенок\n",
      "321 10 62 сервер игра серия сезон сериал аллах игрок vkontakte аниме youtu\n",
      "385 10 140 екатеринбург конкурс занятие язык программа участие участник класс проект школа\n",
      "118 11 82 запись фотосессия макияж конкурс ролл репост победитель кухня студия екатеринбург\n",
      "361 11 83 кожа цвет заказывать массаж тело см руб сайт натуральный материал\n",
      "342 11 126 що це конкурс автор як рубль лайк добавляться сайт победитель\n",
      "39 11 282 собака кошка лечение сбор клиника животное корм операция котенок приют\n",
      "92 12 255 вылет utm_source тур utm_medium utm_campaign кальян отель rub бар social\n",
      "195 12 566 вода использовать система являться компания программа ученый тело тренировка книга\n",
      "228 12 567 игра видео серия конкурс книга фильм компания приложение игрок проект\n",
      "54 13 508 net ly bit ставка su прогноз goo gl онлайн xl\n",
      "99 14 1018 екатеринбург ул view iz трц москва кед vans дрифт россия\n",
      "294 15 2038 гороскоп овен рак любовь рыба знак козерог зодиак фильм стрелец\n",
      "107 15 2039 выпуск подписываться молодежка песня novosti kz ссо канал лдпр отряд\n"
     ]
    }
   ],
   "source": [
    "print(\"Количество коечных кластеров:\",len(down_cl), '\\n')\n",
    "\n",
    "for i in down_cl:\n",
    "    print(i['size'], i['level'], i['ind'], *i['words'])"
   ]
  },
  {
   "cell_type": "markdown",
   "metadata": {},
   "source": [
    "Как можно заметить, следующие кластера очень похожи между собой, поэтому мы можем посмотреть на их предка\n",
    "\n",
    "* 240 6 44 твой любовь душа сердце никто скучать рядом счастие прощать уходить\"\n",
    "* 239 6 45 твой любовь мужчина женщина сердце счастие душа счастливый глаз никто"
   ]
  },
  {
   "cell_type": "code",
   "execution_count": 101,
   "metadata": {
    "collapsed": false
   },
   "outputs": [
    {
     "name": "stdout",
     "output_type": "stream",
     "text": [
      "твой любовь сердце душа мужчина счастие женщина никто рядом счастливый\n",
      "твой любовь сердце душа мужчина счастие женщина никто рядом счастливый\n"
     ]
    }
   ],
   "source": [
    "print(*get_ancestor(levels[6][44])['words'])\n",
    "print(*get_ancestor(levels[6][45])['words'])"
   ]
  },
  {
   "cell_type": "markdown",
   "metadata": {},
   "source": [
    "Ниже предоставлены ключевые слова по каждому кластеру и по 3 группы, наиболее приближенные к центру кластера\n"
   ]
  },
  {
   "cell_type": "code",
   "execution_count": 110,
   "metadata": {
    "collapsed": false
   },
   "outputs": [
    {
     "name": "stdout",
     "output_type": "stream",
     "text": [
      "свадьба свадебный невеста фотограф фотосессия съемка wedding прическа макияж платье\n",
      "\n",
      "vk.com/club32768467\n",
      "vk.com/club24251666\n",
      "vk.com/club34752316 \n",
      "\n",
      "утро слабо осень ночь сердце твой верить музыка спокойный любовь\n",
      "\n",
      "vk.com/club30790069\n",
      "vk.com/club46837498\n",
      "vk.com/club45192348 \n",
      "\n",
      "книга фильм бог история земля любовь женщина смерть жанр сила\n",
      "\n",
      "vk.com/club51682933\n",
      "vk.com/club45270133\n",
      "vk.com/club18206367 \n",
      "\n",
      "масло мышца сахар упражнение яйцо ложка тренировка соль добавлять ингредиент\n",
      "\n",
      "vk.com/club54725864\n",
      "vk.com/club48946342\n",
      "vk.com/club32455286 \n",
      "\n",
      "бог божий господь любовь молитва преподобный иоанн твой христос святой\n",
      "\n",
      "vk.com/club16838988\n",
      "vk.com/club29599237\n",
      "vk.com/club36825554 \n",
      "\n",
      "малыш вода масло мама ложка организм кожа упражнение сахар добавлять\n",
      "\n",
      "vk.com/club82274301\n",
      "vk.com/club54616802\n",
      "vk.com/club42082503 \n",
      "\n",
      "деньги женщина мужчина бизнес отношение цель энергия книга любовь проблема\n",
      "\n",
      "vk.com/club54087668\n",
      "vk.com/club47211280\n",
      "vk.com/club51563246 \n",
      "\n",
      "секс искать парень познакомиться член вирт анон привет встреча куни\n",
      "\n",
      "vk.com/club78627386\n",
      "vk.com/club71801147\n",
      "vk.com/club63628711 \n",
      "\n",
      "руб iphone чехол apple samsung продавать рубль размер смартфон наличие\n",
      "\n",
      "vk.com/club62197278\n",
      "vk.com/club44923684\n",
      "vk.com/club53077693 \n",
      "\n",
      "платье наличие размер заказ цвет руб ткань одежда юбка скидка\n",
      "\n",
      "vk.com/club42660944\n",
      "vk.com/club55307031\n",
      "vk.com/club58267654 \n",
      "\n",
      "квартира сайт компания интернет рубль доход зарабатывать бизнес руб проект\n",
      "\n",
      "vk.com/club83227908\n",
      "vk.com/club49194443\n",
      "vk.com/club80430661 \n",
      "\n",
      "концерт билет альбом песня музыка фестиваль клуб рок екатеринбург москва\n",
      "\n",
      "vk.com/club49236284\n",
      "vk.com/club35723706\n",
      "vk.com/club3867813 \n",
      "\n",
      "альбом трек песня музыка рэп клип сингл релиз концерт исполнитель\n",
      "\n",
      "vk.com/club54064341\n",
      "vk.com/club35897987\n",
      "vk.com/club270061 \n",
      "\n",
      "твой любовь душа сердце никто скучать рядом счастие прощать уходить\n",
      "\n",
      "vk.com/club57206655\n",
      "vk.com/club32027787\n",
      "vk.com/club33538023 \n",
      "\n",
      "твой любовь мужчина женщина сердце счастие душа счастливый глаз никто\n",
      "\n",
      "vk.com/club54070398\n",
      "vk.com/club29418032\n",
      "vk.com/club30653238 \n",
      "\n",
      "секс парень мужчина женщина член анон оргазм анонимно кончать постель\n",
      "\n",
      "vk.com/club59631366\n",
      "vk.com/club43370570\n",
      "vk.com/club83079831 \n",
      "\n",
      "женщина твой мужчина мама парень любовь мужик муж глаз жена\n",
      "\n",
      "vk.com/club12714443\n",
      "vk.com/club41627368\n",
      "vk.com/club56766423 \n",
      "\n",
      "волос наращивание ресница кожа бровь процедура макияж маникюр ноготь мастер\n",
      "\n",
      "vk.com/club18556982\n",
      "vk.com/club8212619\n",
      "vk.com/club2907121 \n",
      "\n",
      "remix mix original house feat bass drum trance techno dj\n",
      "\n",
      "vk.com/club76754189\n",
      "vk.com/club23420445\n",
      "vk.com/club57564071 \n",
      "\n",
      "скидка товар магазин заказ доставка руб футболка catalog обувь кожа\n",
      "\n",
      "vk.com/club59261193\n",
      "vk.com/club34039024\n",
      "vk.com/club18446055 \n",
      "\n",
      "заказ доставка заказывать наличие topic скидка руб рубль подарок размер\n",
      "\n",
      "vk.com/club58563862\n",
      "vk.com/club12909398\n",
      "vk.com/club23775560 \n",
      "\n",
      "фильм жанр комедия сериал режиссер драма роль триллер боевик ужас\n",
      "\n",
      "vk.com/club14088168\n",
      "vk.com/club46803458\n",
      "vk.com/club48859965 \n",
      "\n",
      "добавлять взаимно ава лайка заявка взаимный подписчик го кидать лайк\n",
      "\n",
      "vk.com/club74340849\n",
      "vk.com/club33690971\n",
      "vk.com/club25647374 \n",
      "\n",
      "матч лига гол сборная игрок футбол команда кубок месся реал\n",
      "\n",
      "vk.com/club29081753\n",
      "vk.com/club41\n",
      "vk.com/club50103812 \n",
      "\n",
      "россия отель украина страна остров музей сша российский русский петербург\n",
      "\n",
      "vk.com/club6569643\n",
      "vk.com/club21129436\n",
      "vk.com/club9828339 \n",
      "\n",
      "автомобиль авто подсказывать двигатель машина диск ремонт задний сколько ali\n",
      "\n",
      "vk.com/club28238375\n",
      "vk.com/club50660536\n",
      "vk.com/club70636818 \n",
      "\n",
      "трек альбом art hiphop ph ep rap new music клип\n",
      "\n",
      "vk.com/club5885141\n",
      "vk.com/club34856514\n",
      "vk.com/club26628743 \n",
      "\n",
      "автомобиль двигатель водитель машина авто система дорога масло мотор кузов\n",
      "\n",
      "vk.com/club76410531\n",
      "vk.com/club18831451\n",
      "vk.com/club58135374 \n",
      "\n",
      "торт татуировка тату собака tattoo тортик петля портрет мастер щенок\n",
      "\n",
      "vk.com/club42026963\n",
      "vk.com/club65609862\n",
      "vk.com/club53200827 \n",
      "\n",
      "сервер игра серия сезон сериал аллах игрок vkontakte аниме youtu\n",
      "\n",
      "vk.com/club17354672\n",
      "vk.com/club52843060\n",
      "vk.com/club63255377 \n",
      "\n",
      "екатеринбург конкурс занятие язык программа участие участник класс проект школа\n",
      "\n",
      "vk.com/club565209\n",
      "vk.com/club734067\n",
      "vk.com/club1330969 \n",
      "\n",
      "запись фотосессия макияж конкурс ролл репост победитель кухня студия екатеринбург\n",
      "\n",
      "vk.com/club79689513\n",
      "vk.com/club20320210\n",
      "vk.com/club70922455 \n",
      "\n",
      "кожа цвет заказывать массаж тело см руб сайт натуральный материал\n",
      "\n",
      "vk.com/club80035820\n",
      "vk.com/club13925410\n",
      "vk.com/club39679503 \n",
      "\n",
      "що це конкурс автор як рубль лайк добавляться сайт победитель\n",
      "\n",
      "vk.com/club16446031\n",
      "vk.com/club33959353\n",
      "vk.com/club24483285 \n",
      "\n",
      "собака кошка лечение сбор клиника животное корм операция котенок приют\n",
      "\n",
      "vk.com/club34579874\n",
      "vk.com/club14952402\n",
      "vk.com/club30571378 \n",
      "\n",
      "вылет utm_source тур utm_medium utm_campaign кальян отель rub бар social\n",
      "\n",
      "vk.com/club36598082\n",
      "vk.com/club945144\n",
      "vk.com/club17091950 \n",
      "\n",
      "вода использовать система являться компания программа ученый тело тренировка книга\n",
      "\n",
      "vk.com/club78855499\n",
      "vk.com/club53449719\n",
      "vk.com/club56042186 \n",
      "\n",
      "игра видео серия конкурс книга фильм компания приложение игрок проект\n",
      "\n",
      "vk.com/club28792307\n",
      "vk.com/club21407018\n",
      "vk.com/club52300309 \n",
      "\n",
      "net ly bit ставка su прогноз goo gl онлайн xl\n",
      "\n",
      "vk.com/club26166496\n",
      "vk.com/club35318121\n",
      "vk.com/club35463308 \n",
      "\n",
      "екатеринбург ул view iz трц москва кед vans дрифт россия\n",
      "\n",
      "vk.com/club76683305\n",
      "vk.com/club67505118\n",
      "vk.com/club43263873 \n",
      "\n",
      "гороскоп овен рак любовь рыба знак козерог зодиак фильм стрелец\n",
      "\n",
      "vk.com/club59086125\n",
      "vk.com/club9884911\n",
      "vk.com/club35181265 \n",
      "\n",
      "выпуск подписываться молодежка песня novosti kz ссо канал лдпр отряд\n",
      "\n",
      "vk.com/club20954830\n",
      "vk.com/club5433864\n",
      "vk.com/club21882300 \n",
      "\n"
     ]
    }
   ],
   "source": [
    "for cluster in down_cl:\n",
    "    groups = sort_groups(cluster)\n",
    "    print(*cluster['words'])\n",
    "    print('\\nvk.com/club' + groups[0])\n",
    "    print('vk.com/club' + groups[1])\n",
    "    print('vk.com/club' + groups[2], '\\n')\n",
    "    "
   ]
  },
  {
   "cell_type": "markdown",
   "metadata": {},
   "source": [
    "## k-means + doc2vec\n",
    "\n",
    "В данном подходе метрикой для k-means будет служить cosine similarity. В библиотеке sklearn нет возможности изменить метрику в этом алгоритме, поэтому воспользуемся реализацией k-means из библиотеки nltk."
   ]
  },
  {
   "cell_type": "code",
   "execution_count": 239,
   "metadata": {
    "collapsed": true
   },
   "outputs": [],
   "source": [
    "import nltk\n",
    "from nltk.cluster.kmeans import KMeansClusterer\n",
    "\n",
    "NUM_CLUSTERS = 50\n",
    "k_means_doc2vec = KMeansClusterer(NUM_CLUSTERS, distance=nltk.cluster.util.cosine_distance, repeats=25)\n",
    "k_means_doc2vec_labels = k_means_doc2vec.cluster(doc2vec_matrix, assign_clusters=True)\n",
    "centroids_doc2vec_50 = k_means_doc2vec.means()"
   ]
  },
  {
   "cell_type": "code",
   "execution_count": 274,
   "metadata": {
    "collapsed": false
   },
   "outputs": [],
   "source": [
    "centroids_doc2vec_50 = k_means_doc2vec.means()"
   ]
  },
  {
   "cell_type": "code",
   "execution_count": 297,
   "metadata": {
    "collapsed": false
   },
   "outputs": [],
   "source": [
    "k_means_doc2vec_clust = {i: [] for i in range(len(set(k_means_doc2vec_labels)))}\n",
    "for i in range(len(k_means_doc2vec_labels)):\n",
    "    k_means_doc2vec_clust[k_means_doc2vec_labels[i]].append(i)"
   ]
  },
  {
   "cell_type": "code",
   "execution_count": 364,
   "metadata": {
    "collapsed": false
   },
   "outputs": [
    {
     "name": "stdout",
     "output_type": "stream",
     "text": [
      "0 картошечка рулька рис яичница кнель яйцо мясо овсянка молоко\n",
      "vk.com/club6122444 vk.com/club50914802\n",
      "1 кожа осветление мазь маска бальзам увлажнять антивозрастный бледность актовегин\n",
      "vk.com/club61343499 vk.com/club4569266\n",
      "2 платье костюмчик туника юбочка кардиган жакет кофточка одежда блузка\n",
      "vk.com/club54075036 vk.com/club26404483\n",
      "3 подарок конкурс розыгрыш приз викторина викторин подарочек разыгрывать заказедаCesare\n",
      "vk.com/club28304979 vk.com/club57886422\n",
      "4 осветление окрашивание смывка славянскиеволосый завивка здоровыеволосый Kapous волос Estel\n",
      "vk.com/club64078877 vk.com/club17515881\n",
      "5 na ot pochemu gde pri samye mozhet dlya chem\n",
      "vk.com/club37764410 vk.com/club64199127\n",
      "6 Dropbox сервис продвижение маркетинговый контент сторонний MyGenetics лендинг Hulu\n",
      "vk.com/club56611445 vk.com/club34543568\n",
      "7 годовалый собачка собака котенок малыш щенок мама малышка ребенок\n",
      "vk.com/club55099144 vk.com/club59745458\n",
      "8 облицовывать отделка фанера деревянный металлический фасад гипсокартон газобетон конструкция\n",
      "vk.com/club91685528 vk.com/club52001218\n",
      "9 PARTY Gadyshev Pub NIGHT club6078485 DJ SPECIAL ALEX пати\n",
      "vk.com/club40597496 vk.com/club12804845\n",
      "10 доипосле дизайнноготь радищева6а 89617709777 бровиновосибирск маникюр красивыеноготь BROW тайскийсалон\n",
      "vk.com/club32557662 vk.com/club30772548\n",
      "11 ярмак id49891849 Megadeth бастый тимати strings Oxxxymiron сольный чайф\n",
      "vk.com/club41349238 vk.com/club3745588\n",
      "12 туника кофточка костюмчик наличие кофта шортик жилет xs футболка\n",
      "vk.com/club50855185 vk.com/club52591381\n",
      "13 PvP DayZ Warface филворд Interlude Kain браузерный кау x1\n",
      "vk.com/club85432931 vk.com/club17629094\n",
      "14 кегель утяжелитель мышца гашиш анаэробный расслабляющий разгибатель тонус тренировка\n",
      "vk.com/club74756741 vk.com/club30086880\n",
      "15 The Hill Within Cable Young Our Hell 3rd Big\n",
      "vk.com/club24055806 vk.com/club46671733\n",
      "16 сериал кэти рэйчел камео club75439725 комедийный фильм WilliamShatner джейсон\n",
      "vk.com/club56440010 vk.com/club23154999\n",
      "17 790р OEM R16 bluetooth Technics 70см 2600 комплект Alpine\n",
      "vk.com/club51954636 vk.com/club81422990\n",
      "18 квартира 2к многоэтажка общежитие апартамент малосемейка 1к однокомнатный гостинка\n",
      "vk.com/club4484138 vk.com/club31329280\n",
      "19 музей парк театр краеведческий памятник дворец измайловский дуомо парижский\n",
      "vk.com/club75664668 vk.com/club10774379\n",
      "20 букетик букет crochet открыточка топиарий открытка цветок капкейка выпискаизроддом\n",
      "vk.com/club73911325 vk.com/club51012728\n",
      "21 two also different students guys someone first long And\n",
      "vk.com/club66223786 vk.com/club48561775\n",
      "22 3g тачскрин смартфон планшет проводной нетбук bluetooth 4g Q415\n",
      "vk.com/club58538228 vk.com/club72400590\n",
      "23 мужик ладно говорить просто парень думать материться рожа вообще\n",
      "vk.com/club84752433 vk.com/club69554084\n",
      "24 привет ребята фотка заценивать што видос чо лайкать пж\n",
      "vk.com/club21882300 vk.com/club5908150\n",
      "25 портрет иллюстрация шарж живопись художник акварельный рисунок рисовать репродукция\n",
      "vk.com/club29689780 vk.com/club52222222\n",
      "26 украшение серьга браслет кулон аметист колье муранскоестекло страз ожерелие\n",
      "vk.com/club34937041 vk.com/club10839286\n",
      "27 робертс оборотень адамс сага детектив рэйчел джейсон уильям ужас\n",
      "vk.com/club40919763 vk.com/club39856647\n",
      "28 остров озеро альпы гора провинция мыс mindtrip неподалеку деревушка\n",
      "vk.com/club68356971 vk.com/club49500311\n",
      "29 заработок вложение 34180нужный доход начисляться ежемесячно idcash зарабатывать fo\n",
      "vk.com/club37347187 vk.com/club68250829\n",
      "30 отель бодрум Korston кушадаса гостиница хургада кипр Hyatt лаос\n",
      "vk.com/club2456642 vk.com/club53905392\n",
      "31 бог грешный молитва иисус писание верующий молиться милостивый священный\n",
      "vk.com/club50611496 vk.com/club30183288\n",
      "32 ученый реактор негуманный исследователь астероид непрограммируемый пренатальный феномен майло\n",
      "vk.com/club295434 vk.com/club21743595\n",
      "33 словно душа пусть однажды плакать слеза любить говорить пусто\n",
      "vk.com/club18090478 vk.com/club30550158\n",
      "34 наличие заказывать заказ mikkimama товар 1750р 1800руб 50РУБ 1сутки\n",
      "vk.com/club37717219 vk.com/club45216914\n",
      "35 соревнование гонкагерой ДК доброград розахутор IFBB спринтер многоборье забег\n",
      "vk.com/club25325269 vk.com/club11866108\n",
      "36 подработка удаленный расклейщик оклад швея аргонщик работадлястудент автомойщик бухгалтер\n",
      "vk.com/club57810620 vk.com/club51488827\n",
      "37 думать просто стремиться понимать научаться нихера заставлять действительно соликамец\n",
      "vk.com/club17917818 vk.com/club40695482\n",
      "38 ruсвадебный фотосессия фотограф comиндивидуальный ловстори id230120857 басалаев анастасия свадьбаводесса\n",
      "vk.com/club74083 vk.com/club3109123\n",
      "39 свадьба подружканевеста свадебный ведущаянасвадьба ведущийнасвадьба малиновка ruсвадебный свадьбаспб свадебныйдекор\n",
      "vk.com/club68819090 vk.com/club48598512\n",
      "40 парень приветик симпотичный девушка писатьискать Ищю МЖ симпатичный мж\n",
      "vk.com/club60450661 vk.com/club19716030\n",
      "41 любить просто думать говорить значит знать никто унижаться понимать\n",
      "vk.com/club27927658 vk.com/club74676045\n",
      "42 і якия тако вже від І є було із\n",
      "vk.com/club52230702 vk.com/club7213300\n",
      "43 авк андреевич BCEX евгений анастасия кузьмин екатерина влад яковлев\n",
      "vk.com/club78526770 vk.com/club48879768\n",
      "44 обществознание бакалавриат преподаватель информатика аграрный студент техникум магистратура школа\n",
      "vk.com/club34179942 vk.com/club46039433\n",
      "45 2107 toyota приора дэу шевроле тюнинговать нексия пежо тойота\n",
      "vk.com/club19619276 vk.com/club26805523\n",
      "46 осознавать мысль природа осознанно понимать наоборот стремление любовь чувство\n",
      "vk.com/club22978003 vk.com/club49639\n",
      "47 армия воевать войско военный ирак офицер отставной подполковница гарнизон\n",
      "vk.com/club465616 vk.com/club33580882\n",
      "48 правительство минобрнаука ведомство чиновник минспорт гаи государство увд прокуратура\n",
      "vk.com/club76683305 vk.com/club72651581\n",
      "49 спортинг леганес матч кака осасун саутгемптон ХК борнмут htmlапл\n",
      "vk.com/club45277565 vk.com/club30540533\n"
     ]
    }
   ],
   "source": [
    "for i, centroid in enumerate(centroids_doc2vec_50):\n",
    "    print(i, *np.array(doc_model.similar_by_vector(centroid, topn=9))[:,0])\n",
    "    samples = random.sample(k_means_doc2vec_clust[i], 2)\n",
    "    print('vk.com/club' + docs_labels[samples[0]], 'vk.com/club' + docs_labels[samples[1]])"
   ]
  },
  {
   "cell_type": "markdown",
   "metadata": {},
   "source": [
    "## Иерархическая кластеризация"
   ]
  },
  {
   "cell_type": "code",
   "execution_count": 330,
   "metadata": {
    "collapsed": false,
    "scrolled": true
   },
   "outputs": [],
   "source": [
    "from scipy.cluster.hierarchy import linkage, dendrogram\n",
    "from scipy.spatial.distance import pdist, squareform\n",
    "\n",
    "class linkage_cluser:\n",
    "    def __init__(self, data, keys, method='complete', pd_metric='euclidean', metric='euclidean'):\n",
    "        self.data = data\n",
    "        self.keys = keys\n",
    "        self.method = method\n",
    "        self.pd_metric = pd_metric\n",
    "        self.metric = metric\n",
    "        self.dist_matrix = squareform(pdist(data, metric=pd_metric))\n",
    "        self.linkage_matrix = linkage(self.dist_matrix, method=method, metric=metric)\n",
    "    \n",
    "    def get_clusters(self, clusternum):\n",
    "        clustdict = {i:[i] for i in range(len(self.linkage_matrix)+1)}\n",
    "        for i in range(len(self.linkage_matrix)-clusternum+1):\n",
    "            clust1= int(self.linkage_matrix[i][0])\n",
    "            clust2= int(self.linkage_matrix[i][1])\n",
    "            clustdict[max(clustdict)+1] = clustdict[clust1] + clustdict[clust2]\n",
    "            del clustdict[clust1], clustdict[clust2]\n",
    "        return clustdict\n",
    "\n",
    "    def get_labels(self, clusternum):\n",
    "        labels = [0] * len(self.data)\n",
    "        clusters = self.get_clusters(clusternum)\n",
    "        for clust in clusters:\n",
    "            for i in clusters[clust]:\n",
    "                labels[i] = clust\n",
    "                \n",
    "        lab_dict = dict(zip(list(set(labels)), range(len(set(labels)))))\n",
    "\n",
    "        for i in range(len(labels)):\n",
    "            labels[i] = lab_dict[labels[i]]\n",
    "        return labels\n",
    "    \n",
    "    def get_centers(self, clusternum):\n",
    "        centers = []\n",
    "        clusters = self.get_clusters(clusternum)\n",
    "        for clust in clusters:\n",
    "            center = np.zeros(self.data.shape[1])\n",
    "            for i in clusters[clust]:\n",
    "                center += self.data[i]\n",
    "            center /= len(clusters[clust])\n",
    "            centers.append(center)\n",
    "        return centers"
   ]
  },
  {
   "cell_type": "markdown",
   "metadata": {},
   "source": [
    "## tf-idf"
   ]
  },
  {
   "cell_type": "code",
   "execution_count": 331,
   "metadata": {
    "collapsed": false
   },
   "outputs": [],
   "source": [
    "linkage_tf_complete = linkage_cluser(data=tf_matrix, keys=keys, method='complete',\n",
    "                                     pd_metric='euclidean',metric='euclidean')"
   ]
  },
  {
   "cell_type": "code",
   "execution_count": 358,
   "metadata": {
    "collapsed": false
   },
   "outputs": [
    {
     "name": "stdout",
     "output_type": "stream",
     "text": [
      "Ключевые слова по кластерам: \n",
      "\n",
      "Cluster 0: добавлять лайка заявка подписчик взаимный\n",
      "vk.com/club43839962, vk.com/club72134463\n",
      "Cluster 1: альбом песня концерт музыка рок\n",
      "vk.com/club2689397, vk.com/club1928\n",
      "Cluster 2: бизнес клиент деньги компания цель\n",
      "vk.com/club68984863, vk.com/club62308431\n",
      "Cluster 3: квартира комната мебель ремонт сдавать\n",
      "vk.com/club63635967, vk.com/club47433721\n",
      "Cluster 4: малыш мама игрушка родитель игра\n",
      "vk.com/club31554855, vk.com/club12814401\n",
      "Cluster 5: мужчина женщина деньги отношение цель\n",
      "vk.com/club17526546, vk.com/club201795\n",
      "Cluster 6: сайт клиент бизнес компания пользователь\n",
      "vk.com/club75807830, vk.com/club31232679\n",
      "Cluster 7: remix mix original feat records\n",
      "vk.com/club6662744, vk.com/club23162459\n",
      "Cluster 8: трек альбом песня клип сингл\n",
      "vk.com/club26486, vk.com/club66925\n",
      "Cluster 9: масло сахар тесто соль ингредиент\n",
      "vk.com/club35196043, vk.com/club50905414\n",
      "Cluster 10: ali pub aliexpress заказывать аккумулятор\n",
      "vk.com/club50861666, vk.com/club221973\n",
      "Cluster 11: твой мужчина женщина любовь душа\n",
      "vk.com/club46210681, vk.com/club27523046\n",
      "Cluster 12: россия украина российский путин страна\n",
      "vk.com/club70173115, vk.com/club5733\n",
      "Cluster 13: вылет тур отель руб чело\n",
      "vk.com/club73565194, vk.com/club46612922\n",
      "Cluster 14: аллах аль ибн пророк посланник\n",
      "vk.com/club393, vk.com/club25179627\n",
      "Cluster 15: кожа волос макияж маска лицо\n",
      "vk.com/club17445795, vk.com/club44693226\n",
      "Cluster 16: концерт билет альбом песня рок\n",
      "vk.com/club65414773, vk.com/club19848372\n",
      "Cluster 17: организм мышца упражнение тренировка вода\n",
      "vk.com/club10221330, vk.com/club57875884\n",
      "Cluster 18: фотограф фотосессия свадьба свадебный съемка\n",
      "vk.com/club54385489, vk.com/club53469623\n",
      "Cluster 19: волос наращивание прядь выпрямление см\n",
      "vk.com/club34161692, vk.com/club27259605\n",
      "Cluster 20: твой любовь мужчина женщина душа\n",
      "vk.com/club57524264, vk.com/club31869968\n",
      "Cluster 21: свадьба свадебный невеста платье фотограф\n",
      "vk.com/club54768052, vk.com/club24251666\n",
      "Cluster 22: vkontakte добавляться вступать рубль сайт\n",
      "vk.com/club13088227, vk.com/club1147\n",
      "Cluster 23: макияж прическа невеста визажист свадебный\n",
      "vk.com/club28312020, vk.com/club57455244\n",
      "Cluster 24: свадьба свадебный невеста фотограф wedding\n",
      "vk.com/club71734015, vk.com/club56558921\n",
      "Cluster 25: матч игрок лига гол команда\n",
      "vk.com/club39196380, vk.com/club9303500\n",
      "Cluster 26: мышца упражнение тренировка жир жим\n",
      "vk.com/club34261797, vk.com/club67504190\n",
      "Cluster 27: доход интернет зарабатывать сайт выплата\n",
      "vk.com/club49102412, vk.com/club21898772\n",
      "Cluster 28: автомобиль двигатель машина авто водитель\n",
      "vk.com/club66233058, vk.com/club36622653\n",
      "Cluster 29: платье скидка заказ наличие доставка\n",
      "vk.com/club35215802, vk.com/club70153178\n",
      "Cluster 30: женщина мужчина любовь отношение энергия\n",
      "vk.com/club45827826, vk.com/club43005314\n",
      "Cluster 31: фильм жанр комедия драма режиссер\n",
      "vk.com/club22041019, vk.com/club57579363\n",
      "Cluster 32: ресница наращивание маникюр бровь ноготь\n",
      "vk.com/club37768908, vk.com/club69818454\n",
      "Cluster 33: екатеринбург музей фестиваль билет петербург\n",
      "vk.com/club15981078, vk.com/club52008852\n",
      "Cluster 34: парень секс искать привет собака\n",
      "vk.com/club24543753, vk.com/club48661627\n",
      "Cluster 35: малыш мама масло игрушка волос\n",
      "vk.com/club49830574, vk.com/club3780581\n",
      "Cluster 36: игра сериал сезон альбом видео\n",
      "vk.com/club25298289, vk.com/club29002234\n",
      "Cluster 37: масло ложка вода кожа сахар\n",
      "vk.com/club72011428, vk.com/club43952258\n",
      "Cluster 38: заказ доставка наличие размер що\n",
      "vk.com/club25229031, vk.com/club26656334\n",
      "Cluster 39: руб заказ скидка размер магазин\n",
      "vk.com/club27930763, vk.com/club28145453\n",
      "Cluster 40: руб заказ наличие доставка topic\n",
      "vk.com/club56019504, vk.com/club75000287\n",
      "Cluster 41: игра фотограф съемка конкурс фотография\n",
      "vk.com/club70634941, vk.com/club27108949\n",
      "Cluster 42: книга деньги бизнес цель история\n",
      "vk.com/club31843889, vk.com/club62018532\n",
      "Cluster 43: тренировка мышца массаж масло упражнение\n",
      "vk.com/club61971522, vk.com/club45552967\n",
      "Cluster 44: свадьба свадебный любовь фотосессия женщина\n",
      "vk.com/club45916342, vk.com/club39089262\n",
      "Cluster 45: свадьба свадебный гость ведущий праздник\n",
      "vk.com/club40457855, vk.com/club55891271\n",
      "Cluster 46: твой любовь женщина мужчина душа\n",
      "vk.com/club55980508, vk.com/club41847273\n",
      "Cluster 47: сервер рубль сайт скидка москва\n",
      "vk.com/club72132313, vk.com/club49664497\n",
      "Cluster 48: iphone apple смартфон samsung ipad\n",
      "vk.com/club54014372, vk.com/club26898496\n",
      "Cluster 49: россия конкурс рубль книга компания\n",
      "vk.com/club50381556, vk.com/club51611284\n"
     ]
    }
   ],
   "source": [
    "cl_num = 50\n",
    "cents_complete = np.array(linkage_tf_complete.get_centers(cl_num))\n",
    "order_centroids = cents_complete.argsort()[:, ::-1]\n",
    "clusts_complete = linkage_tf_complete.get_clusters(cl_num)\n",
    "print(\"Ключевые слова по кластерам: \\n\")\n",
    "for i, key in zip(range(cl_num), clusts_complete):\n",
    "    print(\"Cluster %d:\" % i, end='')\n",
    "    samples = random.sample(clusts_complete[key], 2)\n",
    "    \n",
    "    for ind in order_centroids[i, :5]:\n",
    "        print(' %s' % terms[ind], end='')\n",
    "    print('\\nvk.com/club' + keys[samples[0]] + ', vk.com/club' + keys[samples[1]])"
   ]
  },
  {
   "cell_type": "markdown",
   "metadata": {},
   "source": [
    "#  Выбор модели\n",
    "\n",
    "Для выбора модели, на матрице признаков, полученной с помощью tf-idf и векторе лейблов, полученному от каждой из моделей, обучим классификатор. Выберем ту модел, у которой точность будет выше.\n",
    "В данном случае, связка k-means + tf-idf показала лучший результат."
   ]
  },
  {
   "cell_type": "code",
   "execution_count": null,
   "metadata": {
    "collapsed": false
   },
   "outputs": [],
   "source": [
    "from sklearn.linear_model import LogisticRegression\n",
    "from sklearn.tree import DecisionTreeClassifier\n",
    "from sklearn.model_selection import train_test_split\n",
    "from sklearn.metrics import *\n",
    "\n",
    "all_labels = (km.labels_, k_means_doc2vec_labels, linkage_tf_complete.get_labels(50),)\n",
    "\n",
    "tree_acc = []\n",
    "lr_acc = []\n",
    "for labels in all_labels:\n",
    "    t_acc = []\n",
    "    l_acc = []\n",
    "    for i in range(20):\n",
    "        X_train, X_test, y_train, y_test = train_test_split(tf_matrix, labels, test_size=0.4, random_state=i)\n",
    "\n",
    "        tree = DecisionTreeClassifier()\n",
    "        lr = LogisticRegression()\n",
    "\n",
    "        tree.fit(X_train, y_train)\n",
    "        lr.fit(X_train, y_train)\n",
    "\n",
    "        t_acc.append(accuracy_score(y_test, tree.predict(X_test)))\n",
    "        l_acc.append(accuracy_score(y_test, lr.predict(X_test)))\n",
    "    tree_acc.append(sum(t_acc)/len(t_acc))\n",
    "    lr_acc.append(sum(l_acc)/len(l_acc))\n",
    "    \n",
    "\n"
   ]
  },
  {
   "cell_type": "code",
   "execution_count": 396,
   "metadata": {
    "collapsed": false
   },
   "outputs": [
    {
     "name": "stdout",
     "output_type": "stream",
     "text": [
      "k-means + tf-idf: \n",
      "\ttree: 0.495035570677 \n",
      "\tlr: 0.806201670275\n",
      "k-means + doc2vec: \n",
      "\ttree: 0.0258892669347 \n",
      "\tlr: 0.068574079802\n",
      "linkage + tf-idf: \n",
      "\ttree: 0.340395917105 \n",
      "\tlr: 0.62001237241\n"
     ]
    }
   ],
   "source": [
    "m = ('k-means + tf-idf:', 'k-means + doc2vec:', 'linkage + tf-idf:')\n",
    "for i, j, n in zip(tree_acc, lr_acc, m):\n",
    "    print(n,'\\n\\ttree:', i,'\\n\\tlr:', j )"
   ]
  },
  {
   "cell_type": "markdown",
   "metadata": {},
   "source": [
    "# Кластеризация групп с картинками\n",
    "\n",
    "Изначально, мной была допущена ошибка, из-за которой лист pic_groups_list записались группы, содержащие музыку. Ниже группы из pic_groups_list были разделены на music (группы с музыкой) и pic (группы с картинками).\n",
    "Первый кластер (music) можно объеденить с аналогичным кластеров (кластер, ключевыми словами которого являются музыкальные жанры). Второй же (pic) было решено оставить, так как анализ картинок - довольно трудоемкая задача, которая, в контексте данного задания, не принесет большой пользы."
   ]
  },
  {
   "cell_type": "code",
   "execution_count": 245,
   "metadata": {
    "collapsed": false
   },
   "outputs": [],
   "source": [
    "def get_wall2(id):\n",
    "    first = \"https://api.vk.com/method/wall.get?owner_id=-\"\n",
    "    last = \"&count=100\"\n",
    "    data = requests.get(first + str(id) + last)\n",
    "    datas = data.content.decode('utf8')\n",
    "    data = json.loads(datas)\n",
    "    try:\n",
    "        data = data['response']\n",
    "    except:\n",
    "        data = 0\n",
    "    return data"
   ]
  },
  {
   "cell_type": "code",
   "execution_count": null,
   "metadata": {
    "collapsed": false,
    "scrolled": true
   },
   "outputs": [],
   "source": [
    "pic = []\n",
    "music = []\n",
    "bad_id = []\n",
    "j = 0\n",
    "for id in pic_groups_list:\n",
    "    wall = get_wall2(id)\n",
    "    audio = 0\n",
    "    if wall == 0:\n",
    "        bad_id.append(id)\n",
    "    else:\n",
    "        for i in range(2, len(wall) - 2):\n",
    "            try:\n",
    "                attachments =  wall[i]['attachments']\n",
    "                for attach in attachments:\n",
    "                    try:\n",
    "                        _ = attach['audio']\n",
    "                        audio += 1\n",
    "                    except:\n",
    "                        continue \n",
    "            except:\n",
    "                continue\n",
    "                \n",
    "        if audio/(len(wall) - 2) < 1:\n",
    "            pic.append(id)\n",
    "        else:\n",
    "            music.append(id)"
   ]
  },
  {
   "cell_type": "code",
   "execution_count": 256,
   "metadata": {
    "collapsed": false
   },
   "outputs": [
    {
     "name": "stdout",
     "output_type": "stream",
     "text": [
      "109 1364\n"
     ]
    }
   ],
   "source": [
    "print(len(music), len(pic))"
   ]
  },
  {
   "cell_type": "markdown",
   "metadata": {
    "collapsed": true
   },
   "source": [
    "# Заключение\n",
    "\n",
    "С точки зрения анализа данных, стояла задача кластеризации, получения тематических подрупп. Я не придумал, как оценить качество моделей, без использования людей, которые смогли бы сказать, какая модель показывает наилучший результат.\n",
    "\n",
    "Помимо использованных мной алгоритмов, данную задачу можно решать с помощью **lda**, **hdp**, **gaussian mixture model**. \n",
    "\n",
    "Так же можно было использовать иерархический **k-means** для модели c **doc2vec**. В данном случае, на каждой ветви рекурсии для текущего кластера рассчитывалась бы матрица расстояний внутри кластера с метрикой 'cosine similarity', затем, если все значения выше порогового (все объекты внутри кластера похожи друг на друга в определенной степени), происходил бы выход из рекурсии. В противном случае, текущий кластер разделялся бы еще на два кластера.\n",
    "\n",
    "Далеко не считаю, что качество работы приемлимо для внедрения ее в продакшн, так как мною не был предоставлен алгоритм нахождения числа кластеров и метрика для оценивания качества модели."
   ]
  }
 ],
 "metadata": {
  "kernelspec": {
   "display_name": "Python 3",
   "language": "python",
   "name": "python3"
  },
  "language_info": {
   "codemirror_mode": {
    "name": "ipython",
    "version": 3
   },
   "file_extension": ".py",
   "mimetype": "text/x-python",
   "name": "python",
   "nbconvert_exporter": "python",
   "pygments_lexer": "ipython3",
   "version": "3.4.5"
  }
 },
 "nbformat": 4,
 "nbformat_minor": 0
}
